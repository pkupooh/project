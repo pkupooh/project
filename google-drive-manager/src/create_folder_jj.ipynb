{
 "cells": [
  {
   "cell_type": "code",
   "execution_count": 3,
   "metadata": {},
   "outputs": [
    {
     "name": "stdout",
     "output_type": "stream",
     "text": [
      "Folder ID: \"1bLGk7q2cRdXxAf0Pt5yZIwf5MRVn_Ne4\".\n"
     ]
    }
   ],
   "source": [
    "from __future__ import print_function\n",
    "from __future__ import print_function\n",
    "import os\n",
    "import json\n",
    "import re\n",
    "# import chardet\n",
    "import argparse\n",
    "# import pandas as pd\n",
    "import google.auth\n",
    "from google.oauth2 import service_account\n",
    "from google.cloud import storage\n",
    "from google.cloud import bigquery\n",
    "from googleapiclient.discovery import build\n",
    "from googleapiclient.errors import HttpError\n",
    "import google.auth\n",
    "from googleapiclient.discovery import build\n",
    "from googleapiclient.errors import HttpError\n",
    "\n",
    "dev_key_path = \"/Users/gowid/Desktop/master/transaction_analysis/config/gowid-gcs-dev_keyfile.json\"\n",
    "dev_credentials = service_account.Credentials.from_service_account_file(dev_key_path,scopes=['https://www.googleapis.com/auth/drive','https://www.googleapis.com/auth/bigquery','https://www.googleapis.com/auth/devstorage.full_control'])\n",
    "\n",
    "def create_folder():\n",
    "    \"\"\" Create a folder and prints the folder ID\n",
    "    Returns : Folder Id\n",
    "\n",
    "    Load pre-authorized user credentials from the environment.\n",
    "    TODO(developer) - See https://developers.google.com/identity\n",
    "    for guides on implementing OAuth2 for the application.\n",
    "    \"\"\"\n",
    "    # creds, _ = google.auth.default()\n",
    "\n",
    "    try:\n",
    "        # create drive api client\n",
    "        service = build('drive', 'v3', credentials=dev_credentials)\n",
    "        file_metadata = {\n",
    "            'name': 'api_test_1',\n",
    "            'mimeType': 'application/vnd.google-apps.folder'\n",
    "            , 'parents':['v']\n",
    "        }\n",
    "\n",
    "        # pylint: disable=maybe-no-member\n",
    "        file = service.files().create(body=file_metadata, fields='id'\n",
    "                                      ).execute()\n",
    "        print(F'Folder ID: \"{file.get(\"id\")}\".')\n",
    "        return file.get('id')\n",
    "\n",
    "    except HttpError as error:\n",
    "        print(F'An error occurred: {error}')\n",
    "        return None\n",
    "\n",
    "\n",
    "if __name__ == '__main__':\n",
    "    create_folder()"
   ]
  },
  {
   "cell_type": "code",
   "execution_count": null,
   "metadata": {},
   "outputs": [],
   "source": []
  }
 ],
 "metadata": {
  "kernelspec": {
   "display_name": "Python 3.8.9 64-bit",
   "language": "python",
   "name": "python3"
  },
  "language_info": {
   "codemirror_mode": {
    "name": "ipython",
    "version": 3
   },
   "file_extension": ".py",
   "mimetype": "text/x-python",
   "name": "python",
   "nbconvert_exporter": "python",
   "pygments_lexer": "ipython3",
   "version": "3.8.9"
  },
  "orig_nbformat": 4,
  "vscode": {
   "interpreter": {
    "hash": "31f2aee4e71d21fbe5cf8b01ff0e069b9275f58929596ceb00d14d90e3e16cd6"
   }
  }
 },
 "nbformat": 4,
 "nbformat_minor": 2
}
