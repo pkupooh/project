{
 "cells": [
  {
   "cell_type": "code",
   "execution_count": 107,
   "metadata": {},
   "outputs": [],
   "source": [
    "from __future__ import print_function\n",
    "import os\n",
    "import json\n",
    "import re\n",
    "# import chardet\n",
    "import argparse\n",
    "import pandas as pd\n",
    "import google.auth\n",
    "from google.oauth2 import service_account\n",
    "from google.cloud import storage\n",
    "from google.cloud import bigquery\n",
    "from googleapiclient.discovery import build\n",
    "from googleapiclient.errors import HttpError\n",
    "\n",
    "dev_key_path = \"/Users/gowid/Desktop/master/transaction_analysis/config/gowid-gcs-dev_keyfile.json\"\n",
    "prd_key_path = \"/Users/gowid/Desktop/master/transaction_analysis/config/gowid-gcs-prd-f069a99a7d10.json\"\n",
    "\n",
    "# sql_path = '/Users/gowid/Desktop/master/cashflow_analysis/sql/'\n",
    "\n",
    "dev_credentials = service_account.Credentials.from_service_account_file(dev_key_path,scopes=['https://www.googleapis.com/auth/drive','https://www.googleapis.com/auth/bigquery','https://www.googleapis.com/auth/devstorage.full_control'])\n",
    "prd_credentials = service_account.Credentials.from_service_account_file(prd_key_path,scopes=['https://www.googleapis.com/auth/drive','https://www.googleapis.com/auth/bigquery','https://www.googleapis.com/auth/devstorage.full_control'])\n",
    "\n",
    "#client 설정\n",
    "client = storage.Client(credentials = dev_credentials, project = dev_credentials.project_id)\n",
    "bq_client = bigquery.Client(credentials = dev_credentials, project = dev_credentials.project_id)\n",
    "\n",
    "# 연동할 google drive folder id\n",
    "google_drive_id = '1cO7bI_2opLbwrDi5tN7kWEqrxMPwWh65'"
   ]
  },
  {
   "cell_type": "code",
   "execution_count": 102,
   "metadata": {},
   "outputs": [
    {
     "name": "stdout",
     "output_type": "stream",
     "text": [
      "Buckets in gowid-gcs-dev:\n",
      "\tasia.artifacts.gowid-gcs-dev.appspot.com\n",
      "\tcrm_bucket_test\n",
      "\tcrm_bucket_test_2\n",
      "\tgcf-sources-825455146653-asia-northeast3\n",
      "\tgcf-sources-825455146653-us-central1\n",
      "\tgowid-gcs-dev-ocr\n",
      "\tgowid_gcs_dev_shareholders\n",
      "\tocr_list\n",
      "\tus.artifacts.gowid-gcs-dev.appspot.com\n",
      "2212\n"
     ]
    }
   ],
   "source": [
    "from google.cloud import storage\n",
    "idxcorp = '1'\n",
    "bucket_name = \"crm_bucket_test\"\n",
    "\n",
    "# bucket list 확인\n",
    "bucket_list = client.list_buckets()\n",
    "\n",
    "print(\"Buckets in {}:\".format(client.project))\n",
    "for item in bucket_list:\n",
    "    print(\"\\t\" + item.name)\n",
    "\n",
    "# 대상폴더명 리스트\n",
    "sql = f\"\"\"\n",
    "SELECT cast(idxCorp as string) as idxCorp\n",
    "     , appliedAt\n",
    "     , issuanceStatus\n",
    "FROM `gowid-gcs-prd.raw_stream_gowid.CardIssuanceInfo`\n",
    "WHERE issuanceStatus in ('APPLY','ISSUED')\n",
    "      AND cardType in ('GOWID')\n",
    "      AND PARSE_DATE('%Y%m%d',FORMAT_DATETIME('%Y%m%d',appliedAt)) <= CURRENT_DATE()\n",
    "ORDER BY idxCorp\n",
    "\"\"\"\n",
    "\n",
    "# 데이터 조회 쿼리 실행 결과\n",
    "query_job = bq_client.query(sql)\n",
    "\n",
    "# 데이터프레임 변환\n",
    "# type(query_job)\n",
    "df = query_job.to_dataframe()\n",
    "folder = df['idxCorp']\n",
    "folder_list = folder.to_list()\n",
    "# print(folder_list)\n",
    "print(len(folder_list))"
   ]
  },
  {
   "cell_type": "code",
   "execution_count": 80,
   "metadata": {},
   "outputs": [
    {
     "name": "stdout",
     "output_type": "stream",
     "text": [
      "crm_bucket_test/ttt\n",
      "/b/crm_bucket_test/o/ttt%2F\n",
      "ttt/\n"
     ]
    }
   ],
   "source": [
    "# idxcorp = 'ttt'\n",
    "# current_bucket = client.get_bucket(\"crm_bucket_test\")\n",
    "# folder_path = current_bucket.name+'/'+idxcorp\n",
    "# print(current_bucket.name+'/'+idxcorp)\n",
    "# blob = current_bucket.blob(idxcorp+'/')\n",
    "# print(blob.path)\n",
    "# print(blob.name)"
   ]
  },
  {
   "cell_type": "code",
   "execution_count": 135,
   "metadata": {},
   "outputs": [
    {
     "name": "stdout",
     "output_type": "stream",
     "text": [
      "Created 고위드/ . bucket name : ['/b/crm_bucket_test_3/o/%EA%B3%A0%EC%9C%84%EB%93%9C%2F'] / path : ['고위드/']\n",
      "['/b/crm_bucket_test_3/o/%EA%B3%A0%EC%9C%84%EB%93%9C%2F']\n",
      "['고위드/']\n",
      "Created 포잉/ . bucket name : ['/b/crm_bucket_test_3/o/%EA%B3%A0%EC%9C%84%EB%93%9C%2F', '/b/crm_bucket_test_3/o/%ED%8F%AC%EC%9E%89%2F'] / path : ['고위드/', '포잉/']\n",
      "['/b/crm_bucket_test_3/o/%EA%B3%A0%EC%9C%84%EB%93%9C%2F', '/b/crm_bucket_test_3/o/%ED%8F%AC%EC%9E%89%2F']\n",
      "['고위드/', '포잉/']\n",
      "Created 프레시코드/ . bucket name : ['/b/crm_bucket_test_3/o/%EA%B3%A0%EC%9C%84%EB%93%9C%2F', '/b/crm_bucket_test_3/o/%ED%8F%AC%EC%9E%89%2F', '/b/crm_bucket_test_3/o/%ED%94%84%EB%A0%88%EC%8B%9C%EC%BD%94%EB%93%9C%2F'] / path : ['고위드/', '포잉/', '프레시코드/']\n",
      "['/b/crm_bucket_test_3/o/%EA%B3%A0%EC%9C%84%EB%93%9C%2F', '/b/crm_bucket_test_3/o/%ED%8F%AC%EC%9E%89%2F', '/b/crm_bucket_test_3/o/%ED%94%84%EB%A0%88%EC%8B%9C%EC%BD%94%EB%93%9C%2F']\n",
      "['고위드/', '포잉/', '프레시코드/']\n"
     ]
    }
   ],
   "source": [
    "# idxcorp 를 변수로 받아서 bucket 내 folder 를 만들기\n",
    "corp_id = ['고위드','포잉','프레시코드']\n",
    "def create_folder(bucket_name, destination_folder_name):\n",
    "    bucket = client.get_bucket(bucket_name)\n",
    "    blob = bucket.blob(destination_folder_name)\n",
    "\n",
    "    blob.upload_from_string('')\n",
    "\n",
    "    blob_path.append(blob.path)\n",
    "    blob_name.append(blob.name)\n",
    "\n",
    "    print('Created {} . bucket name : {} / path : {}'.format(\n",
    "        destination_folder_name, blob_path, blob_name))\n",
    "\n",
    "# create_folder(\"crm_bucket_test\", 'test-folder/')\n",
    "\n",
    "# Create folder in bucket \n",
    "blob_path = []\n",
    "blob_name = []\n",
    "for idxcorp in corp_id: \n",
    "    destination_folder_name = idxcorp+'/'\n",
    "    # if legacy folder exist , replace(delete & create)  logic 은 bucket은 이름이 같으면 중복으로 안생기네\n",
    "    create_folder(\"crm_bucket_test_3\", destination_folder_name)\n",
    "    # print(destination_folder_name)\n",
    "    print(blob_path)\n",
    "    print(blob_name)\n",
    "# print(bucket)\n",
    "\n"
   ]
  },
  {
   "cell_type": "code",
   "execution_count": null,
   "metadata": {},
   "outputs": [],
   "source": [
    "#bucket의 내용을 임시 디렉토리에 받는다 (1회성)\n",
    "# 임시 디렉토리에 받은 내용을 다시 드라이브에 올린다. \n",
    "# bucket에서 받은 내용을 경로단위(?) 로 정확히 drive의 경로로 만들어서 올려야 하는데 \n",
    "# 해야할일 : bucket에서 파일이 포함 된 folder sample / file sample을 만든다. \n",
    "# folder sample의 경로 / uri 뭐든 이어받을 수 있는 내용 확인한다. \n",
    "# bucket 의 경로 -> tmp dir 의 경로 -> 구글드라이브 upload 경로 과정에서 파싱되어야 하는 경로들을 하나하나 변수화 한다. \n",
    "# 현재 함수는 파일 1개 업로드 하는건 동기화 되어 있음 (되어 있는 기능 : \"연동\")\n",
    "# 부족한 기능은 경로 단위로 상위 디렉토리(폴더까지 함께 동기화 되도록 만들어야 함 \n",
    "# \n"
   ]
  },
  {
   "cell_type": "code",
   "execution_count": 162,
   "metadata": {},
   "outputs": [
    {
     "name": "stdout",
     "output_type": "stream",
     "text": [
      "고위드/\n",
      "/b/crm_bucket_test_3/o/고위드/\n",
      "gs://crm_bucket_test_3/o/%EA%B3%A0%EC%9C%84%EB%93%9C%2F\n",
      "포잉/\n",
      "/b/crm_bucket_test_3/o/포잉/\n",
      "gs://crm_bucket_test_3/o/%ED%8F%AC%EC%9E%89%2F\n",
      "프레시코드/\n",
      "/b/crm_bucket_test_3/o/프레시코드/\n",
      "gs://crm_bucket_test_3/o/%ED%94%84%EB%A0%88%EC%8B%9C%EC%BD%94%EB%93%9C%2F\n",
      "['고위드/', '포잉/', '프레시코드/']\n",
      "['/b/crm_bucket_test_3/o/고위드/', '/b/crm_bucket_test_3/o/포잉/', '/b/crm_bucket_test_3/o/프레시코드/']\n"
     ]
    }
   ],
   "source": [
    "bucket = client.get_bucket(\"crm_bucket_test_3\")\n",
    "\n",
    "bucket_name = bucket.name\n",
    "list_blob_b = bucket.list_blobs()\n",
    "blob_list = []\n",
    "folder_path_list = []\n",
    "for blob in list_blob_b:\n",
    "    print(blob.name)\n",
    "    blob_name = blob.name\n",
    "    link = blob.path_helper(bucket_name, blob_name)\n",
    "    folder_path = \"/b/\" + bucket_name + \"/o/\"+ blob_name\n",
    "    print(folder_path)\n",
    "    print('gs://'+link)\n",
    "    blob_list.append(blob_name)\n",
    "    folder_path_list.append(folder_path)\n",
    "print(blob_list)\n",
    "print(folder_path_list)"
   ]
  },
  {
   "cell_type": "code",
   "execution_count": 163,
   "metadata": {},
   "outputs": [
    {
     "ename": "NotFound",
     "evalue": "404 GET https://storage.googleapis.com/download/storage/v1/b/crm_bucket_test_3/o/%2Fb%2Fcrm_bucket_test_3%2Fo%2F%EA%B3%A0%EC%9C%84%EB%93%9C%2F?alt=media: No such object: crm_bucket_test_3//b/crm_bucket_test_3/o/고위드/: ('Request failed with status code', 404, 'Expected one of', <HTTPStatus.OK: 200>, <HTTPStatus.PARTIAL_CONTENT: 206>)",
     "output_type": "error",
     "traceback": [
      "\u001b[0;31m---------------------------------------------------------------------------\u001b[0m",
      "\u001b[0;31mInvalidResponse\u001b[0m                           Traceback (most recent call last)",
      "File \u001b[0;32m~/Library/Python/3.8/lib/python/site-packages/google/cloud/storage/client.py:1142\u001b[0m, in \u001b[0;36mClient.download_blob_to_file\u001b[0;34m(self, blob_or_uri, file_obj, start, end, raw_download, if_etag_match, if_etag_not_match, if_generation_match, if_generation_not_match, if_metageneration_match, if_metageneration_not_match, timeout, checksum, retry)\u001b[0m\n\u001b[1;32m   1141\u001b[0m \u001b[39mtry\u001b[39;00m:\n\u001b[0;32m-> 1142\u001b[0m     blob_or_uri\u001b[39m.\u001b[39;49m_do_download(\n\u001b[1;32m   1143\u001b[0m         transport,\n\u001b[1;32m   1144\u001b[0m         file_obj,\n\u001b[1;32m   1145\u001b[0m         download_url,\n\u001b[1;32m   1146\u001b[0m         headers,\n\u001b[1;32m   1147\u001b[0m         start,\n\u001b[1;32m   1148\u001b[0m         end,\n\u001b[1;32m   1149\u001b[0m         raw_download,\n\u001b[1;32m   1150\u001b[0m         timeout\u001b[39m=\u001b[39;49mtimeout,\n\u001b[1;32m   1151\u001b[0m         checksum\u001b[39m=\u001b[39;49mchecksum,\n\u001b[1;32m   1152\u001b[0m         retry\u001b[39m=\u001b[39;49mretry,\n\u001b[1;32m   1153\u001b[0m     )\n\u001b[1;32m   1154\u001b[0m \u001b[39mexcept\u001b[39;00m resumable_media\u001b[39m.\u001b[39mInvalidResponse \u001b[39mas\u001b[39;00m exc:\n",
      "File \u001b[0;32m~/Library/Python/3.8/lib/python/site-packages/google/cloud/storage/blob.py:989\u001b[0m, in \u001b[0;36mBlob._do_download\u001b[0;34m(self, transport, file_obj, download_url, headers, start, end, raw_download, timeout, checksum, retry)\u001b[0m\n\u001b[1;32m    988\u001b[0m download\u001b[39m.\u001b[39m_retry_strategy \u001b[39m=\u001b[39m retry_strategy\n\u001b[0;32m--> 989\u001b[0m response \u001b[39m=\u001b[39m download\u001b[39m.\u001b[39;49mconsume(transport, timeout\u001b[39m=\u001b[39;49mtimeout)\n\u001b[1;32m    990\u001b[0m \u001b[39mself\u001b[39m\u001b[39m.\u001b[39m_extract_headers_from_download(response)\n",
      "File \u001b[0;32m~/Library/Python/3.8/lib/python/site-packages/google/resumable_media/requests/download.py:214\u001b[0m, in \u001b[0;36mDownload.consume\u001b[0;34m(self, transport, timeout)\u001b[0m\n\u001b[1;32m    212\u001b[0m     \u001b[39mreturn\u001b[39;00m result\n\u001b[0;32m--> 214\u001b[0m \u001b[39mreturn\u001b[39;00m _request_helpers\u001b[39m.\u001b[39;49mwait_and_retry(\n\u001b[1;32m    215\u001b[0m     retriable_request, \u001b[39mself\u001b[39;49m\u001b[39m.\u001b[39;49m_get_status_code, \u001b[39mself\u001b[39;49m\u001b[39m.\u001b[39;49m_retry_strategy\n\u001b[1;32m    216\u001b[0m )\n",
      "File \u001b[0;32m~/Library/Python/3.8/lib/python/site-packages/google/resumable_media/requests/_request_helpers.py:148\u001b[0m, in \u001b[0;36mwait_and_retry\u001b[0;34m(func, get_status_code, retry_strategy)\u001b[0m\n\u001b[1;32m    147\u001b[0m \u001b[39mtry\u001b[39;00m:\n\u001b[0;32m--> 148\u001b[0m     response \u001b[39m=\u001b[39m func()\n\u001b[1;32m    149\u001b[0m \u001b[39mexcept\u001b[39;00m _CONNECTION_ERROR_CLASSES \u001b[39mas\u001b[39;00m e:\n",
      "File \u001b[0;32m~/Library/Python/3.8/lib/python/site-packages/google/resumable_media/requests/download.py:207\u001b[0m, in \u001b[0;36mDownload.consume.<locals>.retriable_request\u001b[0;34m()\u001b[0m\n\u001b[1;32m    203\u001b[0m     \u001b[39mself\u001b[39m\u001b[39m.\u001b[39m_object_generation \u001b[39m=\u001b[39m _helpers\u001b[39m.\u001b[39m_parse_generation_header(\n\u001b[1;32m    204\u001b[0m         result, \u001b[39mself\u001b[39m\u001b[39m.\u001b[39m_get_headers\n\u001b[1;32m    205\u001b[0m     )\n\u001b[0;32m--> 207\u001b[0m \u001b[39mself\u001b[39;49m\u001b[39m.\u001b[39;49m_process_response(result)\n\u001b[1;32m    209\u001b[0m \u001b[39mif\u001b[39;00m \u001b[39mself\u001b[39m\u001b[39m.\u001b[39m_stream \u001b[39mis\u001b[39;00m \u001b[39mnot\u001b[39;00m \u001b[39mNone\u001b[39;00m:\n",
      "File \u001b[0;32m~/Library/Python/3.8/lib/python/site-packages/google/resumable_media/_download.py:188\u001b[0m, in \u001b[0;36mDownload._process_response\u001b[0;34m(self, response)\u001b[0m\n\u001b[1;32m    187\u001b[0m \u001b[39mself\u001b[39m\u001b[39m.\u001b[39m_finished \u001b[39m=\u001b[39m \u001b[39mTrue\u001b[39;00m\n\u001b[0;32m--> 188\u001b[0m _helpers\u001b[39m.\u001b[39;49mrequire_status_code(\n\u001b[1;32m    189\u001b[0m     response, _ACCEPTABLE_STATUS_CODES, \u001b[39mself\u001b[39;49m\u001b[39m.\u001b[39;49m_get_status_code\n\u001b[1;32m    190\u001b[0m )\n",
      "File \u001b[0;32m~/Library/Python/3.8/lib/python/site-packages/google/resumable_media/_helpers.py:105\u001b[0m, in \u001b[0;36mrequire_status_code\u001b[0;34m(response, status_codes, get_status_code, callback)\u001b[0m\n\u001b[1;32m    104\u001b[0m         callback()\n\u001b[0;32m--> 105\u001b[0m     \u001b[39mraise\u001b[39;00m common\u001b[39m.\u001b[39mInvalidResponse(\n\u001b[1;32m    106\u001b[0m         response,\n\u001b[1;32m    107\u001b[0m         \u001b[39m\"\u001b[39m\u001b[39mRequest failed with status code\u001b[39m\u001b[39m\"\u001b[39m,\n\u001b[1;32m    108\u001b[0m         status_code,\n\u001b[1;32m    109\u001b[0m         \u001b[39m\"\u001b[39m\u001b[39mExpected one of\u001b[39m\u001b[39m\"\u001b[39m,\n\u001b[1;32m    110\u001b[0m         \u001b[39m*\u001b[39mstatus_codes\n\u001b[1;32m    111\u001b[0m     )\n\u001b[1;32m    112\u001b[0m \u001b[39mreturn\u001b[39;00m status_code\n",
      "\u001b[0;31mInvalidResponse\u001b[0m: ('Request failed with status code', 404, 'Expected one of', <HTTPStatus.OK: 200>, <HTTPStatus.PARTIAL_CONTENT: 206>)",
      "\nDuring handling of the above exception, another exception occurred:\n",
      "\u001b[0;31mNotFound\u001b[0m                                  Traceback (most recent call last)",
      "\u001b[1;32m/Users/gowid/Desktop/master/drive_bucket_connect/src/create_folder_drive.ipynb Cell 7'\u001b[0m in \u001b[0;36m<cell line: 3>\u001b[0;34m()\u001b[0m\n\u001b[1;32m      <a href='vscode-notebook-cell:/Users/gowid/Desktop/master/drive_bucket_connect/src/create_folder_drive.ipynb#ch0000019?line=3'>4</a>\u001b[0m blob \u001b[39m=\u001b[39m bucket\u001b[39m.\u001b[39mblob(key)\n\u001b[1;32m      <a href='vscode-notebook-cell:/Users/gowid/Desktop/master/drive_bucket_connect/src/create_folder_drive.ipynb#ch0000019?line=4'>5</a>\u001b[0m tmpdir \u001b[39m=\u001b[39m \u001b[39m\"\u001b[39m\u001b[39m/tmp/file\u001b[39m\u001b[39m\"\u001b[39m\n\u001b[0;32m----> <a href='vscode-notebook-cell:/Users/gowid/Desktop/master/drive_bucket_connect/src/create_folder_drive.ipynb#ch0000019?line=5'>6</a>\u001b[0m blob_downloaded \u001b[39m=\u001b[39m blob\u001b[39m.\u001b[39;49mdownload_to_filename(tmpdir)\n\u001b[1;32m      <a href='vscode-notebook-cell:/Users/gowid/Desktop/master/drive_bucket_connect/src/create_folder_drive.ipynb#ch0000019?line=6'>7</a>\u001b[0m \u001b[39mprint\u001b[39m(blob_downloaded)\n",
      "File \u001b[0;32m~/Library/Python/3.8/lib/python/site-packages/google/cloud/storage/blob.py:1270\u001b[0m, in \u001b[0;36mBlob.download_to_filename\u001b[0;34m(self, filename, client, start, end, raw_download, if_etag_match, if_etag_not_match, if_generation_match, if_generation_not_match, if_metageneration_match, if_metageneration_not_match, timeout, checksum, retry)\u001b[0m\n\u001b[1;32m   1268\u001b[0m \u001b[39mtry\u001b[39;00m:\n\u001b[1;32m   1269\u001b[0m     \u001b[39mwith\u001b[39;00m \u001b[39mopen\u001b[39m(filename, \u001b[39m\"\u001b[39m\u001b[39mwb\u001b[39m\u001b[39m\"\u001b[39m) \u001b[39mas\u001b[39;00m file_obj:\n\u001b[0;32m-> 1270\u001b[0m         client\u001b[39m.\u001b[39;49mdownload_blob_to_file(\n\u001b[1;32m   1271\u001b[0m             \u001b[39mself\u001b[39;49m,\n\u001b[1;32m   1272\u001b[0m             file_obj,\n\u001b[1;32m   1273\u001b[0m             start\u001b[39m=\u001b[39;49mstart,\n\u001b[1;32m   1274\u001b[0m             end\u001b[39m=\u001b[39;49mend,\n\u001b[1;32m   1275\u001b[0m             raw_download\u001b[39m=\u001b[39;49mraw_download,\n\u001b[1;32m   1276\u001b[0m             if_etag_match\u001b[39m=\u001b[39;49mif_etag_match,\n\u001b[1;32m   1277\u001b[0m             if_etag_not_match\u001b[39m=\u001b[39;49mif_etag_not_match,\n\u001b[1;32m   1278\u001b[0m             if_generation_match\u001b[39m=\u001b[39;49mif_generation_match,\n\u001b[1;32m   1279\u001b[0m             if_generation_not_match\u001b[39m=\u001b[39;49mif_generation_not_match,\n\u001b[1;32m   1280\u001b[0m             if_metageneration_match\u001b[39m=\u001b[39;49mif_metageneration_match,\n\u001b[1;32m   1281\u001b[0m             if_metageneration_not_match\u001b[39m=\u001b[39;49mif_metageneration_not_match,\n\u001b[1;32m   1282\u001b[0m             timeout\u001b[39m=\u001b[39;49mtimeout,\n\u001b[1;32m   1283\u001b[0m             checksum\u001b[39m=\u001b[39;49mchecksum,\n\u001b[1;32m   1284\u001b[0m             retry\u001b[39m=\u001b[39;49mretry,\n\u001b[1;32m   1285\u001b[0m         )\n\u001b[1;32m   1286\u001b[0m \u001b[39mexcept\u001b[39;00m resumable_media\u001b[39m.\u001b[39mDataCorruption:\n\u001b[1;32m   1287\u001b[0m     \u001b[39m# Delete the corrupt downloaded file.\u001b[39;00m\n\u001b[1;32m   1288\u001b[0m     os\u001b[39m.\u001b[39mremove(filename)\n",
      "File \u001b[0;32m~/Library/Python/3.8/lib/python/site-packages/google/cloud/storage/client.py:1155\u001b[0m, in \u001b[0;36mClient.download_blob_to_file\u001b[0;34m(self, blob_or_uri, file_obj, start, end, raw_download, if_etag_match, if_etag_not_match, if_generation_match, if_generation_not_match, if_metageneration_match, if_metageneration_not_match, timeout, checksum, retry)\u001b[0m\n\u001b[1;32m   1142\u001b[0m     blob_or_uri\u001b[39m.\u001b[39m_do_download(\n\u001b[1;32m   1143\u001b[0m         transport,\n\u001b[1;32m   1144\u001b[0m         file_obj,\n\u001b[0;32m   (...)\u001b[0m\n\u001b[1;32m   1152\u001b[0m         retry\u001b[39m=\u001b[39mretry,\n\u001b[1;32m   1153\u001b[0m     )\n\u001b[1;32m   1154\u001b[0m \u001b[39mexcept\u001b[39;00m resumable_media\u001b[39m.\u001b[39mInvalidResponse \u001b[39mas\u001b[39;00m exc:\n\u001b[0;32m-> 1155\u001b[0m     _raise_from_invalid_response(exc)\n",
      "File \u001b[0;32m~/Library/Python/3.8/lib/python/site-packages/google/cloud/storage/blob.py:4457\u001b[0m, in \u001b[0;36m_raise_from_invalid_response\u001b[0;34m(error)\u001b[0m\n\u001b[1;32m   4453\u001b[0m     error_message \u001b[39m=\u001b[39m \u001b[39mstr\u001b[39m(error)\n\u001b[1;32m   4455\u001b[0m message \u001b[39m=\u001b[39m \u001b[39mf\u001b[39m\u001b[39m\"\u001b[39m\u001b[39m{\u001b[39;00mresponse\u001b[39m.\u001b[39mrequest\u001b[39m.\u001b[39mmethod\u001b[39m}\u001b[39;00m\u001b[39m \u001b[39m\u001b[39m{\u001b[39;00mresponse\u001b[39m.\u001b[39mrequest\u001b[39m.\u001b[39murl\u001b[39m}\u001b[39;00m\u001b[39m: \u001b[39m\u001b[39m{\u001b[39;00merror_message\u001b[39m}\u001b[39;00m\u001b[39m\"\u001b[39m\n\u001b[0;32m-> 4457\u001b[0m \u001b[39mraise\u001b[39;00m exceptions\u001b[39m.\u001b[39mfrom_http_status(response\u001b[39m.\u001b[39mstatus_code, message, response\u001b[39m=\u001b[39mresponse)\n",
      "\u001b[0;31mNotFound\u001b[0m: 404 GET https://storage.googleapis.com/download/storage/v1/b/crm_bucket_test_3/o/%2Fb%2Fcrm_bucket_test_3%2Fo%2F%EA%B3%A0%EC%9C%84%EB%93%9C%2F?alt=media: No such object: crm_bucket_test_3//b/crm_bucket_test_3/o/고위드/: ('Request failed with status code', 404, 'Expected one of', <HTTPStatus.OK: 200>, <HTTPStatus.PARTIAL_CONTENT: 206>)"
     ]
    }
   ],
   "source": [
    "bucket = client.get_bucket(\"crm_bucket_test_3\")\n",
    "# for blob_list in bucket.list_blobs('고위드/'):\n",
    "for key in folder_path_list:\n",
    "    blob = bucket.blob(key)\n",
    "    tmpdir = \"/tmp/file\"\n",
    "    blob_downloaded = blob.download_to_filename(tmpdir)\n",
    "    print(blob_downloaded)\n"
   ]
  },
  {
   "cell_type": "code",
   "execution_count": null,
   "metadata": {},
   "outputs": [],
   "source": [
    "\n",
    "def download_file_from_gcs(bucket, key):\n",
    "    print(\"Downloading key: {} in bucket: {}\".format(key, bucket))\n",
    "    source_bucket = client.bucket(bucket)\n",
    "    blob_object = source_bucket.blob(key)\n",
    "    tmpdir = \"/tmp/file\"\n",
    "    blob_object.download_to_filename(tmpdir)\n",
    "    return tmpdir"
   ]
  },
  {
   "cell_type": "code",
   "execution_count": 99,
   "metadata": {},
   "outputs": [],
   "source": [
    "bucket = \"crm_bucket_test_2\""
   ]
  },
  {
   "cell_type": "code",
   "execution_count": 132,
   "metadata": {},
   "outputs": [
    {
     "name": "stdout",
     "output_type": "stream",
     "text": [
      "Folder ID: \"1ZLQPlwR-An4WNZV0_irlNRtDlO8Yoagv\".\n",
      "Folder ID: \"1zSj4E3uH4COCiUPHSU6E3Pif4wRAURVu\".\n",
      "Folder ID: \"1c7dSydl923iVATjc7sP_3aJBx8o5gUWa\".\n"
     ]
    }
   ],
   "source": [
    "# create folder in google drive test\n",
    "### bucket 이랑 연동하려면 blob_name을 받아서 blob name과 동일한 폴더를 만들어야함 \n",
    "\n",
    "from googleapiclient import discovery\n",
    "\n",
    "print(blob_list)\n",
    "google_drive_id = '1cO7bI_2opLbwrDi5tN7kWEqrxMPwWh65'\n",
    "dev_credentials = service_account.Credentials.from_service_account_file(dev_key_path,scopes=['https://www.googleapis.com/auth/drive','https://www.googleapis.com/auth/bigquery','https://www.googleapis.com/auth/devstorage.full_control'])\n",
    "service = discovery.build('drive', 'v3', dev_credentials)\n",
    "\n",
    "def create_folder():\n",
    "    # google_drive_id = '1cO7bI_2opLbwrDi5tN7kWEqrxMPwWh65'\n",
    "    # dev_credentials = service_account.Credentials.from_service_account_file(dev_key_path,scopes=['https://www.googleapis.com/auth/drive','https://www.googleapis.com/auth/bigquery','https://www.googleapis.com/auth/devstorage.full_control'])\n",
    "    # service = discovery.build('drive', 'v3', credentials=dev_credentials)\n",
    "    try:\n",
    "        for name_list in blob_list:\n",
    "            file_metadata = {\n",
    "                    'name': name_list,\n",
    "                    'mimeType': 'application/vnd.google-apps.folder'\n",
    "                    ,'parents' : [google_drive_id]\n",
    "                }\n",
    "            # folder = drive.Create \n",
    "            file = service.files().create(supportsAllDrives=True, body=file_metadata, fields = \"id\").execute()\n",
    "            # print(F'{file.key()}')\n",
    "            print(F'Folder ID: \"{file.get(\"id\")}\".')\n",
    "        return file.get('id')\n",
    "\n",
    "    except HttpError as error:\n",
    "        print(F'An error occurred: {error}')\n",
    "        return None        \n",
    "\n",
    "if __name__ == '__main__':\n",
    "    test_list = ['1','2','3']\n",
    "    create_folder()"
   ]
  },
  {
   "cell_type": "code",
   "execution_count": 106,
   "metadata": {},
   "outputs": [],
   "source": [
    "import random\n",
    "import json\n",
    "import os\n",
    "import string\n",
    "import traceback\n",
    "from googleapiclient import discovery\n",
    "import google.auth\n",
    "from googleapiclient.http import MediaFileUpload\n",
    "from google.cloud import storage\n",
    "\n",
    "dev_key_path = \"/Users/gowid/Desktop/master/transaction_analysis/config/gowid-gcs-dev_keyfile.json\"\n",
    "dev_credentials = service_account.Credentials.from_service_account_file(dev_key_path,scopes=['https://www.googleapis.com/auth/drive','https://www.googleapis.com/auth/bigquery','https://www.googleapis.com/auth/devstorage.full_control'])\n",
    "client = storage.Client(credentials = dev_credentials, project = dev_credentials.project_id)\n",
    "\n",
    "def upload_to_drive(local_path, remote_path):\n",
    "    GDRIVE_FOLDER_IDS = str(os.environ[\"GDRIVE_FOLDER_IDS\"]).split(\",\")\n",
    "    credentials, _ = google.auth.default(scopes=[\"https://www.googleapis.com/auth/drive\"])\n",
    "    service = discovery.build('drive', 'v3', credentials=credentials)\n",
    "    folder_metadata = {\n",
    "            'name': str(local_path),\n",
    "            'mimeType': 'application/vnd.google-apps.folder',\n",
    "            'parents' : str(os.environ[\"GDRIVE_FOLDER_IDS\"]).split(\",\")\n",
    "        }\n",
    "    folder_list = []\n",
    "    folder = service.files().create(body=folder_metadata, fields='id'\n",
    "                                      ).execute()\n",
    "    for i in folder.get('id'):\n",
    "        folder_list.append(folder.get('id'))\n",
    "    # file 을 올리는것만되어 있고, \n",
    "    # folder 올리는 것은 처리가 안되어 있음 \n",
    "    \n",
    "    media = MediaFileUpload(local_path)\n",
    "    print(\"Starting to upload in the drive\")\n",
    "    response = service.files().create(media_body=media, body={\"name\": remote_path.split(\"/\")[-1], \"parents\": GDRIVE_FOLDER_IDS}).execute()\n",
    "\n",
    "    print(response)\n",
    "\n",
    "def download_file_from_gcs(bucket, key):\n",
    "    print(\"Downloading key: {} in bucket: {}\".format(key, bucket))\n",
    "    client = storage.Client(credentials = dev_credentials, project = dev_credentials.project_id)\n",
    "    source_bucket = client.bucket(bucket)\n",
    "    blob_object = source_bucket.blob(key)\n",
    "    tmpdir = \"/tmp/file\"\n",
    "    blob_object.download_to_filename(tmpdir)\n",
    "    return tmpdir\n",
    "\n",
    "def drive_upload(event, context):\n",
    "    try:\n",
    "        if event[\"name\"][-1] == \"/\":\n",
    "            print(\"Folder: {} is created in the bucket: {}\".format(\n",
    "                event[\"name\"],\n",
    "                event[\"bucket\"]\n",
    "            ))\n",
    "            return\n",
    "\n",
    "        # Downloading file from GCS\n",
    "        local_path = download_file_from_gcs(event[\"bucket\"], event[\"name\"])\n",
    "\n",
    "        # Uploading the file to drive\n",
    "        upload_to_drive(local_path, event[\"name\"])\n",
    "\n",
    "    except Exception as e:\n",
    "        print(traceback.format_exc())"
   ]
  },
  {
   "cell_type": "code",
   "execution_count": 53,
   "metadata": {},
   "outputs": [
    {
     "name": "stdout",
     "output_type": "stream",
     "text": [
      "['None']\n"
     ]
    }
   ],
   "source": [
    "import random\n",
    "import json\n",
    "import os\n",
    "import string\n",
    "import traceback\n",
    "from googleapiclient import discovery\n",
    "import google.auth\n",
    "from googleapiclient.http import MediaFileUpload\n",
    "from google.cloud import storage\n",
    "\n",
    "google_drive_id = \"1cO7bI_2opLbwrDi5tN7kWEqrxMPwWh65\"\n",
    "credentials = google.auth.default(scopes=[\"https://www.googleapis.com/auth/drive\"])\n",
    "service = discovery.build('drive','v3',credentials = dev_credentials)\n",
    "media = MediaFileUpload(local_path)\n",
    "# GDRIVE_FOLDER_IDS = str(os.environ['google_drive_id']).split(\",\")"
   ]
  }
 ],
 "metadata": {
  "kernelspec": {
   "display_name": "Python 3.8.9 64-bit",
   "language": "python",
   "name": "python3"
  },
  "language_info": {
   "codemirror_mode": {
    "name": "ipython",
    "version": 3
   },
   "file_extension": ".py",
   "mimetype": "text/x-python",
   "name": "python",
   "nbconvert_exporter": "python",
   "pygments_lexer": "ipython3",
   "version": "3.8.9"
  },
  "orig_nbformat": 4,
  "vscode": {
   "interpreter": {
    "hash": "31f2aee4e71d21fbe5cf8b01ff0e069b9275f58929596ceb00d14d90e3e16cd6"
   }
  }
 },
 "nbformat": 4,
 "nbformat_minor": 2
}
