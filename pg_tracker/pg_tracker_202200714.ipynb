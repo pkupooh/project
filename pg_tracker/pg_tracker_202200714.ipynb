{
 "cells": [
  {
   "cell_type": "code",
   "execution_count": 1,
   "metadata": {},
   "outputs": [
    {
     "name": "stderr",
     "output_type": "stream",
     "text": [
      "/Users/gowid/Library/Python/3.8/lib/python/site-packages/requests/__init__.py:109: RequestsDependencyWarning: urllib3 (1.26.9) or chardet (5.0.0)/charset_normalizer (2.0.12) doesn't match a supported version!\n",
      "  warnings.warn(\n"
     ]
    }
   ],
   "source": [
    "import sys\n",
    "import json\n",
    "import requests\n",
    "import re\n",
    "import numpy as np\n",
    "import pandas as pd\n",
    "import pymysql as pm\n",
    "# 쿼리문 그대로 박아서 쓸 수 있음 데이터 읽어들일 때 사용 \n",
    "from sqlalchemy import create_engine\n",
    "# 데이터프레임 단위로 mysql db에 적재 가능, 만든거 db에 박을때 사용 가능 \n",
    "from datetime import datetime as dt\n",
    "from dateutil.relativedelta import relativedelta\n",
    "import re\n",
    "import math as m\n",
    "from dateutil.relativedelta import relativedelta\n",
    "from google.cloud import bigquery"
   ]
  },
  {
   "cell_type": "code",
   "execution_count": 2,
   "metadata": {},
   "outputs": [],
   "source": [
    "client_gowid_gcs_dev = bigquery.Client(project='gowid-gcs-dev')"
   ]
  },
  {
   "cell_type": "code",
   "execution_count": 3,
   "metadata": {},
   "outputs": [],
   "source": [
    "\n",
    "if __name__ == '__main__':\n",
    "    sql_path = './sql/'\n",
    "    \n",
    "    def sql_card(_file_name):\n",
    "        with open(str(sql_path)+_file_name, 'r') as q:\n",
    "            sql = q.read()\n",
    "            return client_gowid_gcs_dev.query(sql)"
   ]
  },
  {
   "cell_type": "code",
   "execution_count": 4,
   "metadata": {},
   "outputs": [],
   "source": [
    "# pg_tracker base table 가져오기\n",
    "base = sql_card('pg_tracker.sql').to_dataframe()"
   ]
  },
  {
   "cell_type": "code",
   "execution_count": 8,
   "metadata": {},
   "outputs": [
    {
     "data": {
      "text/plain": [
       "'코레일|나이스페이먼츠|티몬|온오프코리아|이삭랜드|교보증권|다우데이타|원페이|페이업|코엠페이먼츠|미래에셋증권|롯데멤버스|한화투자증권|주식회사모인|스마트로|케이지모빌리언스|페이레터|핀샷|원스토어|주식회사더즌|비전씨|루멘페이먼츠|핀플넷|인스타페이|아이씨비|토스페이먼츠|이후에프엔비|다모페이|스탠다드네트웍스|페이스토리|구글코리아|핀크|케이원피에스|로드시스템|코페이|주다날|티엔디엔|십일번가|뱅크샐러드|페이누리|KCP|센트비|결제선생|롯데쇼핑|다모아페이|KG이니시스|CJ올리브네트웍스|하렉스인포텍|위메프|시루정보|나이스정보통신|로카모빌리티|웰컴|원넷|네이버파이낸셜|야놀자|페이게이트|아고다페이먼트|한페이시스|블루월넛|카카오페이|비즈플레이|이나인페이|이지스엔터프라이즈|에스케이플래닛|한국철도|디셈버앤|효성에프엠에스|티모넷|유디아이디|오렌지스퀘어|트래블파트너|한국투자증권|이투유|tosspaymen|엔에이치엔페이|페이네스트|더존비즈온|E-메리츠|쿠팡|섹타나인|에프케이|스토리정보통신|아이오로라|유핀테크|우아한형제들|페이플|한국조폐|페이봇|스마트온라인|당근페이|주핑거|한패스|커넥|코밴|오케이인베스트|유렉스|사이렉스페이|SK증권|주식회사컬리|씨제이올리브네트웍스|파이서브코리아|제이티넷|유안타증권|13마일|코리아결제|패스고|아이에스이커머스|유진투자증권|웰컴페이먼츠|차이코퍼레이션|더페이|주카카오|비바리퍼블리카|윈글로벌페이|더페이원|한국결제인증|세븐페이|티머니|갤럭시아머니트리|유니윌지점위즈|지오엠아이앤|이롬넷|블루월넛|주스마트로|케이아이에스|에스에스지닷컴|제로페이|한국문화진흥|엔에이치투자|한국신용카드결제|통통|Toss정산|마이비|동서아이티에스|신한금융|삼성증권|없음|인피니소프트|부산하나로카드|디지비유페이|주식회사케이티|위대한상상|지머니트랜스|트래블월렛|카카오모빌리티|와이어바알리|케이에스넷|한국정보통신|카페24주식회사|주케이티|결제PG|인터파크|엘지씨엔에스|엔에이치엔|동부증권|현대차증권|피앤링크|골프존|부국위너스|금융결제원|옵타움플랫폼|지엘엔인터내셔널|에스엠하이플러스|에스케이커뮤니케이션|케이비증권|토마토페이|지에스페이먼트|코드블럭|립페이|글로벌머니익|한국선불카드|지마켓|G마켓|브이피주|현대캐피탈|세틀뱅크|모비윈|리싱|아이퀘스트|홀빅|케이엘넷|케이씨피|쿠콘|페이민트|한국결제대행|PG입금|웹케시|엑심베이|와이즈케어|코나아이|에이닐에프앤피'"
      ]
     },
     "execution_count": 8,
     "metadata": {},
     "output_type": "execute_result"
    }
   ],
   "source": [
    "#dictionary 가공\n",
    "# 불러오고 include / exclude 나누기\n",
    "pg_dic = sql_card('dic_pg_tracker.sql').to_dataframe()\n",
    "pg_dic_in = pg_dic.loc[pg_dic['pg_category'] == 'Include']\n",
    "pg_dic_ex = pg_dic.loc[pg_dic['pg_category'] == 'Exclude']\n",
    "# include -> str 처리\n",
    "pg_dic_in_str = pg_dic_in[['pg_desc']].to_string(header=False, index = False, index_names = False).split('\\n')\n",
    "pg_dic_in_str = \",\".join(pg_dic_in_str).replace(\",\",\"|\").replace(\" \",\"\")\n",
    "# exclude -> str 파라미터 처리\n",
    "pg_dic_ex_str = pg_dic_ex[['pg_desc']].to_string(header=False, index = False, index_names = False).split('\\n')\n",
    "pg_dic_ex_str = \",\".join(pg_dic_ex_str).replace(\",\",\"|\").replace(\" \",\"\")\n",
    "\n",
    "pg_dic_in_str"
   ]
  },
  {
   "cell_type": "code",
   "execution_count": 128,
   "metadata": {},
   "outputs": [
    {
     "data": {
      "text/plain": [
       "pg_flag\n",
       "False    4064009\n",
       "True      415242\n",
       "Name: pg_flag, dtype: int64"
      ]
     },
     "execution_count": 128,
     "metadata": {},
     "output_type": "execute_result"
    }
   ],
   "source": [
    "# pg 매출과 일반매출 분류\n",
    "base['pg_flag'] = (base['resaccount_final'].str.contains(pg_dic_in_str) == True) & (base['resaccount_final'].str.contains(pg_dic_ex_str) == False)\n",
    "base.groupby(['pg_flag'])['pg_flag'].count()"
   ]
  },
  {
   "cell_type": "code",
   "execution_count": null,
   "metadata": {},
   "outputs": [],
   "source": []
  },
  {
   "cell_type": "code",
   "execution_count": null,
   "metadata": {},
   "outputs": [],
   "source": []
  }
 ],
 "metadata": {
  "kernelspec": {
   "display_name": "Python 3.8.9 64-bit",
   "language": "python",
   "name": "python3"
  },
  "language_info": {
   "codemirror_mode": {
    "name": "ipython",
    "version": 3
   },
   "file_extension": ".py",
   "mimetype": "text/x-python",
   "name": "python",
   "nbconvert_exporter": "python",
   "pygments_lexer": "ipython3",
   "version": "3.8.9"
  },
  "orig_nbformat": 4,
  "vscode": {
   "interpreter": {
    "hash": "31f2aee4e71d21fbe5cf8b01ff0e069b9275f58929596ceb00d14d90e3e16cd6"
   }
  }
 },
 "nbformat": 4,
 "nbformat_minor": 2
}
