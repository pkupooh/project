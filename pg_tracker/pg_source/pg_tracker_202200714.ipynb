{
 "cells": [
  {
   "cell_type": "code",
   "execution_count": 1,
   "metadata": {},
   "outputs": [
    {
     "name": "stderr",
     "output_type": "stream",
     "text": [
      "/Users/gowid/Library/Python/3.8/lib/python/site-packages/requests/__init__.py:109: RequestsDependencyWarning: urllib3 (1.26.9) or chardet (5.0.0)/charset_normalizer (2.0.12) doesn't match a supported version!\n",
      "  warnings.warn(\n"
     ]
    }
   ],
   "source": [
    "import sys\n",
    "import json\n",
    "import requests\n",
    "import re\n",
    "import numpy as np\n",
    "import pandas as pd\n",
    "import pymysql as pm\n",
    "# 쿼리문 그대로 박아서 쓸 수 있음 데이터 읽어들일 때 사용 \n",
    "from sqlalchemy import create_engine\n",
    "# 데이터프레임 단위로 mysql db에 적재 가능, 만든거 db에 박을때 사용 가능 \n",
    "from datetime import datetime as dt\n",
    "from dateutil.relativedelta import relativedelta\n",
    "import re\n",
    "import math as m\n",
    "from dateutil.relativedelta import relativedelta\n",
    "from google.cloud import bigquery"
   ]
  },
  {
   "cell_type": "code",
   "execution_count": 2,
   "metadata": {},
   "outputs": [],
   "source": [
    "client_gowid_gcs_dev = bigquery.Client(project='gowid-gcs-dev')"
   ]
  },
  {
   "cell_type": "code",
   "execution_count": 3,
   "metadata": {},
   "outputs": [],
   "source": [
    "\n",
    "if __name__ == '__main__':\n",
    "    sql_path = './sql/'\n",
    "    \n",
    "    def sql_card(_file_name):\n",
    "        with open(str(sql_path)+_file_name, 'r') as q:\n",
    "            sql = q.read()\n",
    "            return client_gowid_gcs_dev.query(sql)"
   ]
  },
  {
   "cell_type": "code",
   "execution_count": 4,
   "metadata": {},
   "outputs": [],
   "source": [
    "# pg_tracker base table 가져오기\n",
    "base = sql_card('pg_tracker.sql').to_dataframe()"
   ]
  },
  {
   "cell_type": "code",
   "execution_count": 5,
   "metadata": {},
   "outputs": [],
   "source": [
    "#dictionary 가공\n",
    "# 불러오고 include / exclude 나누기\n",
    "pg_dic = sql_card('dic_pg_tracker.sql').to_dataframe()\n",
    "pg_dic_in = pg_dic.loc[pg_dic['pg_category'] == 'Include']\n",
    "pg_dic_ex = pg_dic.loc[pg_dic['pg_category'] == 'Exclude']\n",
    "# include -> str 처리\n",
    "pg_dic_in_str = pg_dic_in[['pg_desc']].to_string(header=False, index = False, index_names = False).split('\\n')\n",
    "pg_dic_in_str = \",\".join(pg_dic_in_str).replace(\",\",\"|\").replace(\" \",\"\")\n",
    "# exclude -> str 파라미터 처리\n",
    "pg_dic_ex_str = pg_dic_ex[['pg_desc']].to_string(header=False, index = False, index_names = False).split('\\n')\n",
    "pg_dic_ex_str = \",\".join(pg_dic_ex_str).replace(\",\",\"|\").replace(\" \",\"\")"
   ]
  },
  {
   "cell_type": "code",
   "execution_count": 6,
   "metadata": {},
   "outputs": [
    {
     "data": {
      "text/plain": [
       "pg_flag\n",
       "False    4070082\n",
       "True      415808\n",
       "Name: pg_flag, dtype: int64"
      ]
     },
     "execution_count": 6,
     "metadata": {},
     "output_type": "execute_result"
    }
   ],
   "source": [
    "# pg 매출과 일반매출 분류\n",
    "base['pg_flag'] = (base['resaccount_final'].str.contains(pg_dic_in_str) == True) & (base['resaccount_final'].str.contains(pg_dic_ex_str) == False)\n",
    "base.groupby(['pg_flag'])['pg_flag'].count()"
   ]
  },
  {
   "cell_type": "code",
   "execution_count": null,
   "metadata": {},
   "outputs": [],
   "source": []
  },
  {
   "cell_type": "code",
   "execution_count": null,
   "metadata": {},
   "outputs": [],
   "source": []
  }
 ],
 "metadata": {
  "kernelspec": {
   "display_name": "Python 3.8.9 64-bit",
   "language": "python",
   "name": "python3"
  },
  "language_info": {
   "codemirror_mode": {
    "name": "ipython",
    "version": 3
   },
   "file_extension": ".py",
   "mimetype": "text/x-python",
   "name": "python",
   "nbconvert_exporter": "python",
   "pygments_lexer": "ipython3",
   "version": "3.8.9"
  },
  "orig_nbformat": 4,
  "vscode": {
   "interpreter": {
    "hash": "31f2aee4e71d21fbe5cf8b01ff0e069b9275f58929596ceb00d14d90e3e16cd6"
   }
  }
 },
 "nbformat": 4,
 "nbformat_minor": 2
}
